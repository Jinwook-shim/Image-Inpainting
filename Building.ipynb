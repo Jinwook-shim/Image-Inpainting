{
 "cells": [
  {
   "cell_type": "code",
   "execution_count": 1,
   "metadata": {},
   "outputs": [],
   "source": [
    "%load_ext autoreload\n",
    "%autoreload 2"
   ]
  },
  {
   "cell_type": "code",
   "execution_count": 2,
   "metadata": {},
   "outputs": [],
   "source": [
    "from dataloaders.mask_generator import MaskGenerator\n",
    "from models.vgg16_extractor import VGG16Extractor\n",
    "from models.pconv_unet import PConvUNet\n",
    "from dataloaders.images_dataset import ImagesDataset\n",
    "from loss.loss_compute import LossCompute"
   ]
  },
  {
   "cell_type": "code",
   "execution_count": 3,
   "metadata": {},
   "outputs": [],
   "source": [
    "%matplotlib inline\n",
    "import matplotlib.pyplot as plt\n",
    "import itertools\n",
    "import torch.optim as optim\n",
    "from torch.utils.data import DataLoader\n",
    "from tqdm import tqdm_notebook as tqdm\n",
    "import datetime\n",
    "import numpy as np\n",
    "from PIL import Image\n",
    "import os\n",
    "from utils.helpers import make_dir\n",
    "from utils.preprocessing import Preprocessor\n",
    "import torch"
   ]
  },
  {
   "cell_type": "code",
   "execution_count": 4,
   "metadata": {},
   "outputs": [],
   "source": [
    "DEVICE = \"cuda\"\n",
    "HEIGHT, WIDTH = 512, 512\n",
    "LR = 0.0002"
   ]
  },
  {
   "cell_type": "code",
   "execution_count": 5,
   "metadata": {},
   "outputs": [],
   "source": [
    "preprocess = Preprocessor(DEVICE)"
   ]
  },
  {
   "cell_type": "code",
   "execution_count": 6,
   "metadata": {},
   "outputs": [
    {
     "name": "stdout",
     "output_type": "stream",
     "text": [
      "55116 masks found: dataset/irregular_mask/irregular_mask/disocclusion_img_mask/\n"
     ]
    }
   ],
   "source": [
    "mask_generator = MaskGenerator(\"dataset/irregular_mask/irregular_mask/disocclusion_img_mask/\", HEIGHT,WIDTH, invert_mask=False,random_seed=42) \n",
    "pConvUNet = PConvUNet().to(DEVICE)\n",
    "optimizer = optim.Adam(pConvUNet.parameters(), lr=LR)\n",
    "vgg16extractor = VGG16Extractor().to(DEVICE)\n",
    "lossCompute = LossCompute(vgg16extractor, device=DEVICE)"
   ]
  },
  {
   "cell_type": "code",
   "execution_count": 7,
   "metadata": {},
   "outputs": [],
   "source": [
    "# _, axes = plt.subplots(5, 5, figsize=(20, 20))\n",
    "# axes = list(itertools.chain.from_iterable(axes))\n",
    "\n",
    "# for i in range(len(axes)):\n",
    "#     # Generate image\n",
    "#     img = mask_generator.sample()\n",
    "#     # Plot image on axis\n",
    "#     axes[i].imshow(img*255)"
   ]
  },
  {
   "cell_type": "code",
   "execution_count": 8,
   "metadata": {},
   "outputs": [],
   "source": [
    "dataset = ImagesDataset(\"dataset/train_0\",HEIGHT, WIDTH, mask_generator)\n",
    "dataloader = DataLoader(dataset, batch_size=2, shuffle=True, num_workers=2)"
   ]
  },
  {
   "cell_type": "code",
   "execution_count": 9,
   "metadata": {},
   "outputs": [],
   "source": [
    "date_time = datetime.datetime.now().strftime(\"%Y-%m-%d-%H-%M\")\n",
    "save_dir = \"dataset/saved_models/\"+date_time+\"/\"\n",
    "samples_dir = \"dataset/saved_models/\"+date_time+\"/samples/\"\n",
    "\n",
    "make_dir(save_dir)\n",
    "make_dir(samples_dir)"
   ]
  },
  {
   "cell_type": "code",
   "execution_count": null,
   "metadata": {},
   "outputs": [
    {
     "data": {
      "application/vnd.jupyter.widget-view+json": {
       "model_id": "922e2227a92e495d9eb9f6cb85bc463f",
       "version_major": 2,
       "version_minor": 0
      },
      "text/plain": [
       "HBox(children=(IntProgress(value=0, max=78271), HTML(value='')))"
      ]
     },
     "metadata": {},
     "output_type": "display_data"
    },
    {
     "name": "stderr",
     "output_type": "stream",
     "text": [
      "D:\\Repos\\image-inpainting\\loss\\loss_compute.py:45: UserWarning: To copy construct from a tensor, it is recommended to use sourceTensor.clone().detach() or sourceTensor.clone().detach().requires_grad_(True), rather than torch.tensor(sourceTensor).\n",
      "  dilated_mask = torch.tensor(dilated_mask> 0, dtype=torch.float).to(self.device)\n"
     ]
    }
   ],
   "source": [
    "pbar = tqdm(dataloader)\n",
    "counter = 0\n",
    "pConvUNet.train()\n",
    "for masked_img, mask, image in pbar:\n",
    "    \n",
    "    img_tensor = preprocess.normalize(image.type(torch.float).to(DEVICE))\n",
    "    mask_tensor = mask.type(torch.float).transpose(1, 3).to(DEVICE)\n",
    "    masked_img_tensor = preprocess.normalize(masked_img.type(torch.float).to(DEVICE))\n",
    "\n",
    "    optimizer.zero_grad()\n",
    "    ls_fn = lossCompute.loss_total(mask_tensor)\n",
    "\n",
    "    output = pConvUNet(masked_img_tensor, mask_tensor)\n",
    "    loss = ls_fn(img_tensor, output)\n",
    "    total_loss = loss.mean()\n",
    "    psnr = lossCompute.PSNR(img_tensor,output)\n",
    "\n",
    "    pbar.set_description(str(total_loss.detach().cpu().numpy()))\n",
    "    \n",
    "    total_loss.backward()\n",
    "    optimizer.step()\n",
    "    \n",
    "    if counter%100 == 0:\n",
    "        torch.save(pConvUNet.state_dict(), save_dir+\"pconvunet.pth\")\n",
    "        pConvUNet.eval()\n",
    "        res = pConvUNet(masked_img_tensor,mask_tensor)\n",
    "        res = np.clip(preprocess.unnormalize(res).detach().cpu().numpy(),0,1)\n",
    "        original_img = np.clip(preprocess.unnormalize(masked_img_tensor).detach().cpu().numpy(),0,1)\n",
    "        combined_img = np.concatenate((original_img[0], res[0]))\n",
    "        saveImg = Image.fromarray((combined_img*255).astype(np.uint8))\n",
    "        imgname = samples_dir+\"sample\"+\"{:08d}\".format(counter)+\".jpg\"\n",
    "        saveImg.save(imgname)\n",
    "        pConvUNet.train()\n",
    "    counter+=1"
   ]
  },
  {
   "cell_type": "code",
   "execution_count": null,
   "metadata": {},
   "outputs": [],
   "source": []
  }
 ],
 "metadata": {
  "kernelspec": {
   "display_name": "Python 3",
   "language": "python",
   "name": "python3"
  },
  "language_info": {
   "codemirror_mode": {
    "name": "ipython",
    "version": 3
   },
   "file_extension": ".py",
   "mimetype": "text/x-python",
   "name": "python",
   "nbconvert_exporter": "python",
   "pygments_lexer": "ipython3",
   "version": "3.7.3"
  }
 },
 "nbformat": 4,
 "nbformat_minor": 2
}
